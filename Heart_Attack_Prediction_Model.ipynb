{
  "nbformat": 4,
  "nbformat_minor": 0,
  "metadata": {
    "colab": {
      "provenance": [],
      "collapsed_sections": []
    },
    "kernelspec": {
      "name": "python3",
      "display_name": "Python 3"
    },
    "language_info": {
      "name": "python"
    }
  },
  "cells": [
    {
      "cell_type": "markdown",
      "source": [
        "# **HEART ATTACK ANALYSIS AND PREDICTION MODEL (Using XGB, GBM, Ada Boosting, KNN, Naive Bayes, Decision Tree, Random Forest Classifiers and Stacking Model)**\n",
        "\n",
        "Dataset used: https://www.kaggle.com/datasets/rashikrahmanpritom/heart-attack-analysis-prediction-dataset "
      ],
      "metadata": {
        "id": "lFSvXBxB9eqY"
      }
    },
    {
      "cell_type": "markdown",
      "source": [
        "IMPORTING LIBRARIES"
      ],
      "metadata": {
        "id": "BGXmE-IG9fG4"
      }
    },
    {
      "cell_type": "code",
      "execution_count": 64,
      "metadata": {
        "id": "5jANvtQ149Ko"
      },
      "outputs": [],
      "source": [
        "import numpy as np \n",
        "import matplotlib.pyplot as plt \n",
        "import pandas as pd"
      ]
    },
    {
      "cell_type": "markdown",
      "source": [
        "LOADING DATASET"
      ],
      "metadata": {
        "id": "hGe3wL_i9g8C"
      }
    },
    {
      "cell_type": "code",
      "source": [
        "dataset = pd.read_csv(\"heart_classifier.csv\")\n",
        "dataset.head(5)"
      ],
      "metadata": {
        "colab": {
          "base_uri": "https://localhost:8080/",
          "height": 206
        },
        "id": "otViAtdh5zAn",
        "outputId": "c1247348-c505-4717-8bd8-056f7a512e73"
      },
      "execution_count": 65,
      "outputs": [
        {
          "output_type": "execute_result",
          "data": {
            "text/plain": [
              "   age  sex  cp  trtbps  chol  fbs  restecg  thalachh  exng  oldpeak  slp  \\\n",
              "0   63    1   3     145   233    1        0       150     0      2.3    0   \n",
              "1   37    1   2     130   250    0        1       187     0      3.5    0   \n",
              "2   41    0   1     130   204    0        0       172     0      1.4    2   \n",
              "3   56    1   1     120   236    0        1       178     0      0.8    2   \n",
              "4   57    0   0     120   354    0        1       163     1      0.6    2   \n",
              "\n",
              "   caa  thall  output  \n",
              "0    0      1       1  \n",
              "1    0      2       1  \n",
              "2    0      2       1  \n",
              "3    0      2       1  \n",
              "4    0      2       1  "
            ],
            "text/html": [
              "\n",
              "  <div id=\"df-8042f7a0-ba15-4f22-88ea-969d65553030\">\n",
              "    <div class=\"colab-df-container\">\n",
              "      <div>\n",
              "<style scoped>\n",
              "    .dataframe tbody tr th:only-of-type {\n",
              "        vertical-align: middle;\n",
              "    }\n",
              "\n",
              "    .dataframe tbody tr th {\n",
              "        vertical-align: top;\n",
              "    }\n",
              "\n",
              "    .dataframe thead th {\n",
              "        text-align: right;\n",
              "    }\n",
              "</style>\n",
              "<table border=\"1\" class=\"dataframe\">\n",
              "  <thead>\n",
              "    <tr style=\"text-align: right;\">\n",
              "      <th></th>\n",
              "      <th>age</th>\n",
              "      <th>sex</th>\n",
              "      <th>cp</th>\n",
              "      <th>trtbps</th>\n",
              "      <th>chol</th>\n",
              "      <th>fbs</th>\n",
              "      <th>restecg</th>\n",
              "      <th>thalachh</th>\n",
              "      <th>exng</th>\n",
              "      <th>oldpeak</th>\n",
              "      <th>slp</th>\n",
              "      <th>caa</th>\n",
              "      <th>thall</th>\n",
              "      <th>output</th>\n",
              "    </tr>\n",
              "  </thead>\n",
              "  <tbody>\n",
              "    <tr>\n",
              "      <th>0</th>\n",
              "      <td>63</td>\n",
              "      <td>1</td>\n",
              "      <td>3</td>\n",
              "      <td>145</td>\n",
              "      <td>233</td>\n",
              "      <td>1</td>\n",
              "      <td>0</td>\n",
              "      <td>150</td>\n",
              "      <td>0</td>\n",
              "      <td>2.3</td>\n",
              "      <td>0</td>\n",
              "      <td>0</td>\n",
              "      <td>1</td>\n",
              "      <td>1</td>\n",
              "    </tr>\n",
              "    <tr>\n",
              "      <th>1</th>\n",
              "      <td>37</td>\n",
              "      <td>1</td>\n",
              "      <td>2</td>\n",
              "      <td>130</td>\n",
              "      <td>250</td>\n",
              "      <td>0</td>\n",
              "      <td>1</td>\n",
              "      <td>187</td>\n",
              "      <td>0</td>\n",
              "      <td>3.5</td>\n",
              "      <td>0</td>\n",
              "      <td>0</td>\n",
              "      <td>2</td>\n",
              "      <td>1</td>\n",
              "    </tr>\n",
              "    <tr>\n",
              "      <th>2</th>\n",
              "      <td>41</td>\n",
              "      <td>0</td>\n",
              "      <td>1</td>\n",
              "      <td>130</td>\n",
              "      <td>204</td>\n",
              "      <td>0</td>\n",
              "      <td>0</td>\n",
              "      <td>172</td>\n",
              "      <td>0</td>\n",
              "      <td>1.4</td>\n",
              "      <td>2</td>\n",
              "      <td>0</td>\n",
              "      <td>2</td>\n",
              "      <td>1</td>\n",
              "    </tr>\n",
              "    <tr>\n",
              "      <th>3</th>\n",
              "      <td>56</td>\n",
              "      <td>1</td>\n",
              "      <td>1</td>\n",
              "      <td>120</td>\n",
              "      <td>236</td>\n",
              "      <td>0</td>\n",
              "      <td>1</td>\n",
              "      <td>178</td>\n",
              "      <td>0</td>\n",
              "      <td>0.8</td>\n",
              "      <td>2</td>\n",
              "      <td>0</td>\n",
              "      <td>2</td>\n",
              "      <td>1</td>\n",
              "    </tr>\n",
              "    <tr>\n",
              "      <th>4</th>\n",
              "      <td>57</td>\n",
              "      <td>0</td>\n",
              "      <td>0</td>\n",
              "      <td>120</td>\n",
              "      <td>354</td>\n",
              "      <td>0</td>\n",
              "      <td>1</td>\n",
              "      <td>163</td>\n",
              "      <td>1</td>\n",
              "      <td>0.6</td>\n",
              "      <td>2</td>\n",
              "      <td>0</td>\n",
              "      <td>2</td>\n",
              "      <td>1</td>\n",
              "    </tr>\n",
              "  </tbody>\n",
              "</table>\n",
              "</div>\n",
              "      <button class=\"colab-df-convert\" onclick=\"convertToInteractive('df-8042f7a0-ba15-4f22-88ea-969d65553030')\"\n",
              "              title=\"Convert this dataframe to an interactive table.\"\n",
              "              style=\"display:none;\">\n",
              "        \n",
              "  <svg xmlns=\"http://www.w3.org/2000/svg\" height=\"24px\"viewBox=\"0 0 24 24\"\n",
              "       width=\"24px\">\n",
              "    <path d=\"M0 0h24v24H0V0z\" fill=\"none\"/>\n",
              "    <path d=\"M18.56 5.44l.94 2.06.94-2.06 2.06-.94-2.06-.94-.94-2.06-.94 2.06-2.06.94zm-11 1L8.5 8.5l.94-2.06 2.06-.94-2.06-.94L8.5 2.5l-.94 2.06-2.06.94zm10 10l.94 2.06.94-2.06 2.06-.94-2.06-.94-.94-2.06-.94 2.06-2.06.94z\"/><path d=\"M17.41 7.96l-1.37-1.37c-.4-.4-.92-.59-1.43-.59-.52 0-1.04.2-1.43.59L10.3 9.45l-7.72 7.72c-.78.78-.78 2.05 0 2.83L4 21.41c.39.39.9.59 1.41.59.51 0 1.02-.2 1.41-.59l7.78-7.78 2.81-2.81c.8-.78.8-2.07 0-2.86zM5.41 20L4 18.59l7.72-7.72 1.47 1.35L5.41 20z\"/>\n",
              "  </svg>\n",
              "      </button>\n",
              "      \n",
              "  <style>\n",
              "    .colab-df-container {\n",
              "      display:flex;\n",
              "      flex-wrap:wrap;\n",
              "      gap: 12px;\n",
              "    }\n",
              "\n",
              "    .colab-df-convert {\n",
              "      background-color: #E8F0FE;\n",
              "      border: none;\n",
              "      border-radius: 50%;\n",
              "      cursor: pointer;\n",
              "      display: none;\n",
              "      fill: #1967D2;\n",
              "      height: 32px;\n",
              "      padding: 0 0 0 0;\n",
              "      width: 32px;\n",
              "    }\n",
              "\n",
              "    .colab-df-convert:hover {\n",
              "      background-color: #E2EBFA;\n",
              "      box-shadow: 0px 1px 2px rgba(60, 64, 67, 0.3), 0px 1px 3px 1px rgba(60, 64, 67, 0.15);\n",
              "      fill: #174EA6;\n",
              "    }\n",
              "\n",
              "    [theme=dark] .colab-df-convert {\n",
              "      background-color: #3B4455;\n",
              "      fill: #D2E3FC;\n",
              "    }\n",
              "\n",
              "    [theme=dark] .colab-df-convert:hover {\n",
              "      background-color: #434B5C;\n",
              "      box-shadow: 0px 1px 3px 1px rgba(0, 0, 0, 0.15);\n",
              "      filter: drop-shadow(0px 1px 2px rgba(0, 0, 0, 0.3));\n",
              "      fill: #FFFFFF;\n",
              "    }\n",
              "  </style>\n",
              "\n",
              "      <script>\n",
              "        const buttonEl =\n",
              "          document.querySelector('#df-8042f7a0-ba15-4f22-88ea-969d65553030 button.colab-df-convert');\n",
              "        buttonEl.style.display =\n",
              "          google.colab.kernel.accessAllowed ? 'block' : 'none';\n",
              "\n",
              "        async function convertToInteractive(key) {\n",
              "          const element = document.querySelector('#df-8042f7a0-ba15-4f22-88ea-969d65553030');\n",
              "          const dataTable =\n",
              "            await google.colab.kernel.invokeFunction('convertToInteractive',\n",
              "                                                     [key], {});\n",
              "          if (!dataTable) return;\n",
              "\n",
              "          const docLinkHtml = 'Like what you see? Visit the ' +\n",
              "            '<a target=\"_blank\" href=https://colab.research.google.com/notebooks/data_table.ipynb>data table notebook</a>'\n",
              "            + ' to learn more about interactive tables.';\n",
              "          element.innerHTML = '';\n",
              "          dataTable['output_type'] = 'display_data';\n",
              "          await google.colab.output.renderOutput(dataTable, element);\n",
              "          const docLink = document.createElement('div');\n",
              "          docLink.innerHTML = docLinkHtml;\n",
              "          element.appendChild(docLink);\n",
              "        }\n",
              "      </script>\n",
              "    </div>\n",
              "  </div>\n",
              "  "
            ]
          },
          "metadata": {},
          "execution_count": 65
        }
      ]
    },
    {
      "cell_type": "code",
      "source": [
        "dataset.info()"
      ],
      "metadata": {
        "colab": {
          "base_uri": "https://localhost:8080/"
        },
        "id": "Cj-gRHZp6QHu",
        "outputId": "6bb86cd5-18ab-4ab7-ae8e-ae4ea86d0855"
      },
      "execution_count": 66,
      "outputs": [
        {
          "output_type": "stream",
          "name": "stdout",
          "text": [
            "<class 'pandas.core.frame.DataFrame'>\n",
            "RangeIndex: 303 entries, 0 to 302\n",
            "Data columns (total 14 columns):\n",
            " #   Column    Non-Null Count  Dtype  \n",
            "---  ------    --------------  -----  \n",
            " 0   age       303 non-null    int64  \n",
            " 1   sex       303 non-null    int64  \n",
            " 2   cp        303 non-null    int64  \n",
            " 3   trtbps    303 non-null    int64  \n",
            " 4   chol      303 non-null    int64  \n",
            " 5   fbs       303 non-null    int64  \n",
            " 6   restecg   303 non-null    int64  \n",
            " 7   thalachh  303 non-null    int64  \n",
            " 8   exng      303 non-null    int64  \n",
            " 9   oldpeak   303 non-null    float64\n",
            " 10  slp       303 non-null    int64  \n",
            " 11  caa       303 non-null    int64  \n",
            " 12  thall     303 non-null    int64  \n",
            " 13  output    303 non-null    int64  \n",
            "dtypes: float64(1), int64(13)\n",
            "memory usage: 33.3 KB\n"
          ]
        }
      ]
    },
    {
      "cell_type": "code",
      "source": [
        "X = dataset.iloc[:, :-1].values\n",
        "y = dataset.iloc[:, -1].values"
      ],
      "metadata": {
        "id": "AwEITU8-6FaF"
      },
      "execution_count": 67,
      "outputs": []
    },
    {
      "cell_type": "code",
      "source": [
        "print(X)"
      ],
      "metadata": {
        "colab": {
          "base_uri": "https://localhost:8080/"
        },
        "id": "v5tYlu9f6FY0",
        "outputId": "e45c48e5-7bd2-4d4e-fda4-a1dae707a7f8"
      },
      "execution_count": 68,
      "outputs": [
        {
          "output_type": "stream",
          "name": "stdout",
          "text": [
            "[[63.  1.  3. ...  0.  0.  1.]\n",
            " [37.  1.  2. ...  0.  0.  2.]\n",
            " [41.  0.  1. ...  2.  0.  2.]\n",
            " ...\n",
            " [68.  1.  0. ...  1.  2.  3.]\n",
            " [57.  1.  0. ...  1.  1.  3.]\n",
            " [57.  0.  1. ...  1.  1.  2.]]\n"
          ]
        }
      ]
    },
    {
      "cell_type": "code",
      "source": [
        "print(y)"
      ],
      "metadata": {
        "colab": {
          "base_uri": "https://localhost:8080/"
        },
        "id": "MktLmHZ86WAu",
        "outputId": "bf4099c5-2ea9-40bb-d90c-00b7955cba9c"
      },
      "execution_count": 201,
      "outputs": [
        {
          "output_type": "stream",
          "name": "stdout",
          "text": [
            "[1 1 1 1 1 1 1 1 1 1 1 1 1 1 1 1 1 1 1 1 1 1 1 1 1 1 1 1 1 1 1 1 1 1 1 1 1\n",
            " 1 1 1 1 1 1 1 1 1 1 1 1 1 1 1 1 1 1 1 1 1 1 1 1 1 1 1 1 1 1 1 1 1 1 1 1 1\n",
            " 1 1 1 1 1 1 1 1 1 1 1 1 1 1 1 1 1 1 1 1 1 1 1 1 1 1 1 1 1 1 1 1 1 1 1 1 1\n",
            " 1 1 1 1 1 1 1 1 1 1 1 1 1 1 1 1 1 1 1 1 1 1 1 1 1 1 1 1 1 1 1 1 1 1 1 1 1\n",
            " 1 1 1 1 1 1 1 1 1 1 1 1 1 1 1 1 1 0 0 0 0 0 0 0 0 0 0 0 0 0 0 0 0 0 0 0 0\n",
            " 0 0 0 0 0 0 0 0 0 0 0 0 0 0 0 0 0 0 0 0 0 0 0 0 0 0 0 0 0 0 0 0 0 0 0 0 0\n",
            " 0 0 0 0 0 0 0 0 0 0 0 0 0 0 0 0 0 0 0 0 0 0 0 0 0 0 0 0 0 0 0 0 0 0 0 0 0\n",
            " 0 0 0 0 0 0 0 0 0 0 0 0 0 0 0 0 0 0 0 0 0 0 0 0 0 0 0 0 0 0 0 0 0 0 0 0 0\n",
            " 0 0 0 0 0 0 0]\n"
          ]
        }
      ]
    },
    {
      "cell_type": "markdown",
      "source": [
        "SPLITTING DATASET INTO TRAIN AND TEST SET"
      ],
      "metadata": {
        "id": "kag3SAED9kln"
      }
    },
    {
      "cell_type": "code",
      "source": [
        "from sklearn.model_selection import train_test_split \n",
        "X_train, X_test, y_train, y_test = train_test_split(X, y, test_size = 0.3)"
      ],
      "metadata": {
        "id": "4YNK-JuW6ZT1"
      },
      "execution_count": 202,
      "outputs": []
    },
    {
      "cell_type": "code",
      "source": [
        "print(X_train)"
      ],
      "metadata": {
        "colab": {
          "base_uri": "https://localhost:8080/"
        },
        "id": "pfrLSnB582WI",
        "outputId": "4ae548a4-c46f-49c1-e625-87b4c9419321"
      },
      "execution_count": 203,
      "outputs": [
        {
          "output_type": "stream",
          "name": "stdout",
          "text": [
            "[[38.  1.  2. ...  2.  4.  2.]\n",
            " [54.  1.  1. ...  2.  0.  3.]\n",
            " [61.  0.  0. ...  2.  0.  2.]\n",
            " ...\n",
            " [52.  0.  2. ...  1.  0.  2.]\n",
            " [60.  0.  0. ...  1.  2.  3.]\n",
            " [42.  0.  2. ...  1.  0.  2.]]\n"
          ]
        }
      ]
    },
    {
      "cell_type": "code",
      "source": [
        "print(X_test)"
      ],
      "metadata": {
        "colab": {
          "base_uri": "https://localhost:8080/"
        },
        "id": "-LZw6U748613",
        "outputId": "28f8f8d4-786b-4950-9650-724385d6871b"
      },
      "execution_count": 204,
      "outputs": [
        {
          "output_type": "stream",
          "name": "stdout",
          "text": [
            "[[58.  1.  0. ...  1.  1.  3.]\n",
            " [46.  1.  0. ...  2.  0.  3.]\n",
            " [56.  1.  0. ...  0.  0.  3.]\n",
            " ...\n",
            " [52.  1.  2. ...  2.  4.  2.]\n",
            " [61.  1.  0. ...  1.  1.  3.]\n",
            " [60.  0.  2. ...  2.  1.  2.]]\n"
          ]
        }
      ]
    },
    {
      "cell_type": "markdown",
      "source": [
        "FEATURE SCALING"
      ],
      "metadata": {
        "id": "LXto6GGx9njQ"
      }
    },
    {
      "cell_type": "code",
      "source": [
        "from sklearn.preprocessing import StandardScaler \n",
        "sc = StandardScaler()\n",
        "X_train = sc.fit_transform(X_train)\n",
        "X_test = sc.transform(X_test)"
      ],
      "metadata": {
        "id": "uaf5kW-B7Pip"
      },
      "execution_count": 208,
      "outputs": []
    },
    {
      "cell_type": "code",
      "source": [
        "print(X_train)"
      ],
      "metadata": {
        "colab": {
          "base_uri": "https://localhost:8080/"
        },
        "id": "74so0lRX8jxZ",
        "outputId": "41099a01-43fb-4e33-9b71-23a2dfb9560d"
      },
      "execution_count": 209,
      "outputs": [
        {
          "output_type": "stream",
          "name": "stdout",
          "text": [
            "[[-1.83516075  0.7021095   0.96671488 ...  0.90706075  3.10843235\n",
            "  -0.50870103]\n",
            " [-0.07473505  0.7021095   0.00453857 ...  0.90706075 -0.71733054\n",
            "   1.10092013]\n",
            " [ 0.69545119 -1.42427927 -0.95763775 ...  0.90706075 -0.71733054\n",
            "  -0.50870103]\n",
            " ...\n",
            " [-0.29478827 -1.42427927  0.96671488 ... -0.68216965 -0.71733054\n",
            "  -0.50870103]\n",
            " [ 0.58542458 -1.42427927 -0.95763775 ... -0.68216965  1.1955509\n",
            "   1.10092013]\n",
            " [-1.39505433 -1.42427927  0.96671488 ... -0.68216965 -0.71733054\n",
            "  -0.50870103]]\n"
          ]
        }
      ]
    },
    {
      "cell_type": "code",
      "source": [
        "print(X_test)"
      ],
      "metadata": {
        "colab": {
          "base_uri": "https://localhost:8080/"
        },
        "id": "nV-5q8n88cFh",
        "outputId": "e19f402e-3e61-4c7b-d01a-5310b7aaae03"
      },
      "execution_count": 210,
      "outputs": [
        {
          "output_type": "stream",
          "name": "stdout",
          "text": [
            "[[ 0.36537137  0.7021095  -0.95763775 ... -0.68216965  0.23911018\n",
            "   1.10092013]\n",
            " [-0.9549479   0.7021095  -0.95763775 ...  0.90706075 -0.71733054\n",
            "   1.10092013]\n",
            " [ 0.14531816  0.7021095  -0.95763775 ... -2.27140006 -0.71733054\n",
            "   1.10092013]\n",
            " ...\n",
            " [-0.29478827  0.7021095   0.96671488 ...  0.90706075  3.10843235\n",
            "  -0.50870103]\n",
            " [ 0.69545119  0.7021095  -0.95763775 ... -0.68216965  0.23911018\n",
            "   1.10092013]\n",
            " [ 0.58542458 -1.42427927  0.96671488 ...  0.90706075  0.23911018\n",
            "  -0.50870103]]\n"
          ]
        }
      ]
    },
    {
      "cell_type": "markdown",
      "source": [
        "**XGBoost Classifier**\n",
        "\n",
        "\n",
        "---\n",
        "\n"
      ],
      "metadata": {
        "id": "1J6WUBWV9pmC"
      }
    },
    {
      "cell_type": "code",
      "source": [
        "from xgboost import XGBClassifier\n",
        "xg_class = XGBClassifier(n_estimators = 5)\n",
        "xg_class.fit(X_train, y_train)"
      ],
      "metadata": {
        "colab": {
          "base_uri": "https://localhost:8080/"
        },
        "id": "SUovN6eA8cEg",
        "outputId": "2adf4bd5-014b-4684-e8b8-7a242f0b916a"
      },
      "execution_count": 283,
      "outputs": [
        {
          "output_type": "execute_result",
          "data": {
            "text/plain": [
              "XGBClassifier(n_estimators=5)"
            ]
          },
          "metadata": {},
          "execution_count": 283
        }
      ]
    },
    {
      "cell_type": "code",
      "source": [
        "y_xgclass_pred = xg_class.predict(X_test)"
      ],
      "metadata": {
        "id": "aoZtH8Ys8cDH"
      },
      "execution_count": 284,
      "outputs": []
    },
    {
      "cell_type": "code",
      "source": [
        "from sklearn.metrics import confusion_matrix, accuracy_score\n",
        "cm = confusion_matrix(y_test, y_xgclass_pred)\n",
        "print(cm)\n",
        "ac = accuracy_score(y_test, y_xgclass_pred)\n",
        "print(ac)"
      ],
      "metadata": {
        "colab": {
          "base_uri": "https://localhost:8080/"
        },
        "id": "K1zoTErk7LFo",
        "outputId": "ab5015e9-3836-4722-a2cd-daf2710fbaed"
      },
      "execution_count": 285,
      "outputs": [
        {
          "output_type": "stream",
          "name": "stdout",
          "text": [
            "[[32  7]\n",
            " [ 8 44]]\n",
            "0.8351648351648352\n"
          ]
        }
      ]
    },
    {
      "cell_type": "markdown",
      "source": [
        "**GBM Classiifer**\n",
        "\n",
        "\n",
        "---\n",
        "\n"
      ],
      "metadata": {
        "id": "Z8mVYm6L9zu6"
      }
    },
    {
      "cell_type": "code",
      "source": [
        "from sklearn.ensemble import GradientBoostingClassifier\n",
        "gbm_class = GradientBoostingClassifier(n_estimators = 5)\n",
        "gbm_class.fit(X_train, y_train)"
      ],
      "metadata": {
        "colab": {
          "base_uri": "https://localhost:8080/"
        },
        "id": "CzviLThX7LEq",
        "outputId": "5e96a843-9293-4fc1-ddf0-7aa88024237c"
      },
      "execution_count": 274,
      "outputs": [
        {
          "output_type": "execute_result",
          "data": {
            "text/plain": [
              "GradientBoostingClassifier(n_estimators=5)"
            ]
          },
          "metadata": {},
          "execution_count": 274
        }
      ]
    },
    {
      "cell_type": "code",
      "source": [
        "y_gbm_pred = gbm_class.predict(X_test)"
      ],
      "metadata": {
        "id": "Q5iY1RIH8Hfu"
      },
      "execution_count": 275,
      "outputs": []
    },
    {
      "cell_type": "code",
      "source": [
        "cm1 = confusion_matrix(y_test, y_gbm_pred)\n",
        "print(cm1)\n",
        "ac1 = accuracy_score(y_test, y_gbm_pred)\n",
        "print(ac1)"
      ],
      "metadata": {
        "colab": {
          "base_uri": "https://localhost:8080/"
        },
        "id": "XhAdt-_P8HeM",
        "outputId": "5cdce1ce-72d2-428e-d5f0-bd44d478d640"
      },
      "execution_count": 276,
      "outputs": [
        {
          "output_type": "stream",
          "name": "stdout",
          "text": [
            "[[31  8]\n",
            " [ 6 46]]\n",
            "0.8461538461538461\n"
          ]
        }
      ]
    },
    {
      "cell_type": "markdown",
      "source": [
        "**Ada Boosting Classifier**\n",
        "\n",
        "\n",
        "---\n",
        "\n"
      ],
      "metadata": {
        "id": "CWHFsY7JnSga"
      }
    },
    {
      "cell_type": "markdown",
      "source": [
        "BUILIDNG AND TRAINING THE MODEL"
      ],
      "metadata": {
        "id": "nUNIgs4znn5m"
      }
    },
    {
      "cell_type": "code",
      "source": [
        "from sklearn.ensemble import AdaBoostClassifier\n",
        "ada_class = AdaBoostClassifier(n_estimators=5)\n",
        "ada_class.fit(X_train, y_train)"
      ],
      "metadata": {
        "id": "JB7L-VLTnTSm",
        "colab": {
          "base_uri": "https://localhost:8080/"
        },
        "outputId": "157cedbb-9420-4e78-ec9e-9cb4a141ce89"
      },
      "execution_count": 271,
      "outputs": [
        {
          "output_type": "execute_result",
          "data": {
            "text/plain": [
              "AdaBoostClassifier(n_estimators=5)"
            ]
          },
          "metadata": {},
          "execution_count": 271
        }
      ]
    },
    {
      "cell_type": "markdown",
      "source": [
        "MAKING PREDICTIONS"
      ],
      "metadata": {
        "id": "fSryXxN7qCq1"
      }
    },
    {
      "cell_type": "code",
      "source": [
        "y_ada_pred = ada_class.predict(X_test)"
      ],
      "metadata": {
        "id": "O5bOikF0nTvu"
      },
      "execution_count": 272,
      "outputs": []
    },
    {
      "cell_type": "markdown",
      "source": [
        "EVALUATING THE MODEL"
      ],
      "metadata": {
        "id": "xyx4tBCdqEs-"
      }
    },
    {
      "cell_type": "code",
      "source": [
        "cm9 = confusion_matrix(y_test, y_ada_pred)\n",
        "print(cm9)\n",
        "ac9 = accuracy_score(y_test, y_ada_pred)\n",
        "print(ac9)"
      ],
      "metadata": {
        "id": "3aj9WH8InTk5",
        "colab": {
          "base_uri": "https://localhost:8080/"
        },
        "outputId": "159fa69a-6123-4bc3-d178-f511df93dd4b"
      },
      "execution_count": 273,
      "outputs": [
        {
          "output_type": "stream",
          "name": "stdout",
          "text": [
            "[[31  8]\n",
            " [ 6 46]]\n",
            "0.8461538461538461\n"
          ]
        }
      ]
    },
    {
      "cell_type": "markdown",
      "source": [
        "\n",
        "**KNN Classifier**\n",
        "\n",
        "\n",
        "---\n",
        "\n"
      ],
      "metadata": {
        "id": "cjwsJ0vI94f0"
      }
    },
    {
      "cell_type": "markdown",
      "source": [
        "BUILDING AND TRAINING THE MODEL"
      ],
      "metadata": {
        "id": "wvVBCmSdqGw6"
      }
    },
    {
      "cell_type": "code",
      "source": [
        "from sklearn.neighbors import KNeighborsClassifier\n",
        "knn_class = KNeighborsClassifier(n_neighbors = 80)\n",
        "knn_class.fit(X_train, y_train)"
      ],
      "metadata": {
        "colab": {
          "base_uri": "https://localhost:8080/"
        },
        "id": "Ww5D_YJ_8cNj",
        "outputId": "9a81343b-a9e5-462b-81fb-8e0cf10cd4e2"
      },
      "execution_count": 311,
      "outputs": [
        {
          "output_type": "execute_result",
          "data": {
            "text/plain": [
              "KNeighborsClassifier(n_neighbors=80)"
            ]
          },
          "metadata": {},
          "execution_count": 311
        }
      ]
    },
    {
      "cell_type": "markdown",
      "source": [
        "MAKING PREDICTIONS"
      ],
      "metadata": {
        "id": "HI5FuOUaqJHr"
      }
    },
    {
      "cell_type": "code",
      "source": [
        "y_knn_pred = knn_class.predict(X_test)"
      ],
      "metadata": {
        "id": "h35HqC7N86sz"
      },
      "execution_count": 312,
      "outputs": []
    },
    {
      "cell_type": "markdown",
      "source": [
        "EVALUATING THE MODEL"
      ],
      "metadata": {
        "id": "NJuyH8r0qMDD"
      }
    },
    {
      "cell_type": "code",
      "source": [
        "cm2 = confusion_matrix(y_test, y_knn_pred)\n",
        "print(cm2)\n",
        "ac2 = accuracy_score(y_test, y_knn_pred)\n",
        "print(ac2)"
      ],
      "metadata": {
        "colab": {
          "base_uri": "https://localhost:8080/"
        },
        "id": "sb22Z6mj8-ru",
        "outputId": "a3757adf-ef7c-4a6e-a377-a120e16c5046"
      },
      "execution_count": 313,
      "outputs": [
        {
          "output_type": "stream",
          "name": "stdout",
          "text": [
            "[[28 11]\n",
            " [ 3 49]]\n",
            "0.8461538461538461\n"
          ]
        }
      ]
    },
    {
      "cell_type": "markdown",
      "source": [
        "\n",
        "**NAIVE BAYES**\n",
        "\n",
        "\n",
        "\n",
        "---\n",
        "\n",
        "\n",
        "\n"
      ],
      "metadata": {
        "id": "ce8O36nT9c5k"
      }
    },
    {
      "cell_type": "markdown",
      "source": [
        "BUILDING AND TRAINING THE MODEL"
      ],
      "metadata": {
        "id": "gd8Y3CM5qPjC"
      }
    },
    {
      "cell_type": "code",
      "source": [
        "from sklearn.naive_bayes import GaussianNB \n",
        "bayes_class = GaussianNB()\n",
        "bayes_class.fit(X_train, y_train)"
      ],
      "metadata": {
        "colab": {
          "base_uri": "https://localhost:8080/"
        },
        "id": "k-2VCwN4cnIk",
        "outputId": "2070b0b7-88c5-44f0-b30d-d1bb4ecaa28b"
      },
      "execution_count": 314,
      "outputs": [
        {
          "output_type": "execute_result",
          "data": {
            "text/plain": [
              "GaussianNB()"
            ]
          },
          "metadata": {},
          "execution_count": 314
        }
      ]
    },
    {
      "cell_type": "markdown",
      "source": [
        "MAKING PREDICTIONS"
      ],
      "metadata": {
        "id": "Gt_hDVa_qS27"
      }
    },
    {
      "cell_type": "code",
      "source": [
        "y_bayes_pred = bayes_class.predict(X_test)"
      ],
      "metadata": {
        "id": "m000twVqcoRr"
      },
      "execution_count": 315,
      "outputs": []
    },
    {
      "cell_type": "markdown",
      "source": [
        "EVALUATING THE MODEL"
      ],
      "metadata": {
        "id": "Gf0JltuCqUL6"
      }
    },
    {
      "cell_type": "code",
      "source": [
        "cm3 = confusion_matrix(y_test, y_bayes_pred)\n",
        "print(cm3)\n",
        "ac3 = accuracy_score(y_test, y_bayes_pred)\n",
        "print(ac3)"
      ],
      "metadata": {
        "colab": {
          "base_uri": "https://localhost:8080/"
        },
        "id": "FOOORpz_coQq",
        "outputId": "3c045fa1-d664-463e-821d-75aa73f30b62"
      },
      "execution_count": 316,
      "outputs": [
        {
          "output_type": "stream",
          "name": "stdout",
          "text": [
            "[[31  8]\n",
            " [10 42]]\n",
            "0.8021978021978022\n"
          ]
        }
      ]
    },
    {
      "cell_type": "markdown",
      "source": [
        "**SVM**\n",
        "\n",
        "\n",
        "---\n",
        "\n"
      ],
      "metadata": {
        "id": "ZB00DZkpeDQ0"
      }
    },
    {
      "cell_type": "markdown",
      "source": [
        "BUILDING AND TRAINING THE MODEL"
      ],
      "metadata": {
        "id": "fwE6BP1LqbQV"
      }
    },
    {
      "cell_type": "code",
      "source": [
        "from sklearn.svm import SVC \n",
        "svm = SVC(kernel=\"rbf\")\n",
        "svm.fit(X_train, y_train)"
      ],
      "metadata": {
        "colab": {
          "base_uri": "https://localhost:8080/"
        },
        "id": "nvRARQ8BdAy2",
        "outputId": "ca56a389-1983-4064-c643-96bac6b2ae3e"
      },
      "execution_count": 323,
      "outputs": [
        {
          "output_type": "execute_result",
          "data": {
            "text/plain": [
              "SVC()"
            ]
          },
          "metadata": {},
          "execution_count": 323
        }
      ]
    },
    {
      "cell_type": "markdown",
      "source": [
        "MAKING PREDICTIONS"
      ],
      "metadata": {
        "id": "RdCSyDBFqdOE"
      }
    },
    {
      "cell_type": "code",
      "source": [
        "y_svm_pred = svm.predict(X_test)"
      ],
      "metadata": {
        "id": "32r2HIbSdV26"
      },
      "execution_count": 324,
      "outputs": []
    },
    {
      "cell_type": "markdown",
      "source": [
        "EVALUATING THE MODEL"
      ],
      "metadata": {
        "id": "wzVRk8pVqe6s"
      }
    },
    {
      "cell_type": "code",
      "source": [
        "cm4 = confusion_matrix(y_test, y_svm_pred)\n",
        "print(cm4)\n",
        "ac4 = accuracy_score(y_test, y_svm_pred)\n",
        "print(ac4)"
      ],
      "metadata": {
        "colab": {
          "base_uri": "https://localhost:8080/"
        },
        "id": "_2JrH59YdZ5m",
        "outputId": "e350adc2-c3b3-4694-d5be-a2867f836049"
      },
      "execution_count": 325,
      "outputs": [
        {
          "output_type": "stream",
          "name": "stdout",
          "text": [
            "[[31  8]\n",
            " [ 7 45]]\n",
            "0.8351648351648352\n"
          ]
        }
      ]
    },
    {
      "cell_type": "markdown",
      "source": [
        "**LOGISTIC REGRESSION**\n",
        "\n",
        "\n",
        "---\n",
        "\n"
      ],
      "metadata": {
        "id": "aNvlwUlMc6J4"
      }
    },
    {
      "cell_type": "markdown",
      "source": [
        "BUIDLING AND TRAINING THE MODEL"
      ],
      "metadata": {
        "id": "NcJ5BXq4qp5C"
      }
    },
    {
      "cell_type": "code",
      "source": [
        "from sklearn.linear_model import LogisticRegression\n",
        "log_class = LogisticRegression()\n",
        "log_class.fit(X_train, y_train)"
      ],
      "metadata": {
        "colab": {
          "base_uri": "https://localhost:8080/"
        },
        "id": "KRxgQRiWc5kR",
        "outputId": "27279cab-8543-4362-ed1e-c82a7d314d0f"
      },
      "execution_count": 326,
      "outputs": [
        {
          "output_type": "execute_result",
          "data": {
            "text/plain": [
              "LogisticRegression()"
            ]
          },
          "metadata": {},
          "execution_count": 326
        }
      ]
    },
    {
      "cell_type": "markdown",
      "source": [
        "MAKING PREDICTIONS"
      ],
      "metadata": {
        "id": "iw4FEHpbqx64"
      }
    },
    {
      "cell_type": "code",
      "source": [
        "y_log_pred = log_class.predict(X_test)"
      ],
      "metadata": {
        "id": "Lu7ZXD_VdvsE"
      },
      "execution_count": 327,
      "outputs": []
    },
    {
      "cell_type": "markdown",
      "source": [
        "EVALUATING THE MODEL"
      ],
      "metadata": {
        "id": "DoHs2GiQqzay"
      }
    },
    {
      "cell_type": "code",
      "source": [
        "cm5 = confusion_matrix(y_test, y_log_pred)\n",
        "print(cm5)\n",
        "ac5 = accuracy_score(y_test, y_log_pred)\n",
        "print(ac5)"
      ],
      "metadata": {
        "colab": {
          "base_uri": "https://localhost:8080/"
        },
        "id": "kipUtFQwdvq2",
        "outputId": "0df2a261-3391-49e0-dbca-9b82bc5242a9"
      },
      "execution_count": 328,
      "outputs": [
        {
          "output_type": "stream",
          "name": "stdout",
          "text": [
            "[[30  9]\n",
            " [ 9 43]]\n",
            "0.8021978021978022\n"
          ]
        }
      ]
    },
    {
      "cell_type": "markdown",
      "source": [
        "**DECISION TREE CLASSIFIER**\n",
        "\n",
        "\n",
        "---\n",
        "\n"
      ],
      "metadata": {
        "id": "6q2l4vS9q5dP"
      }
    },
    {
      "cell_type": "code",
      "source": [
        "from sklearn.tree import DecisionTreeClassifier\n",
        "dt_class = DecisionTreeClassifier()\n",
        "dt_class.fit(X_train, y_train)"
      ],
      "metadata": {
        "colab": {
          "base_uri": "https://localhost:8080/"
        },
        "id": "-5HupFBAgEAJ",
        "outputId": "3096eacf-b0aa-4bfb-f888-db59bd44399b"
      },
      "execution_count": 329,
      "outputs": [
        {
          "output_type": "execute_result",
          "data": {
            "text/plain": [
              "DecisionTreeClassifier()"
            ]
          },
          "metadata": {},
          "execution_count": 329
        }
      ]
    },
    {
      "cell_type": "code",
      "source": [
        "y_dt_pred = dt_class.predict(X_test)"
      ],
      "metadata": {
        "id": "96T0AYvEgWVr"
      },
      "execution_count": 330,
      "outputs": []
    },
    {
      "cell_type": "code",
      "source": [
        "cm6 = confusion_matrix(y_test, y_dt_pred)\n",
        "print(cm6)\n",
        "ac6 = accuracy_score(y_test, y_dt_pred)\n",
        "print(ac6)"
      ],
      "metadata": {
        "colab": {
          "base_uri": "https://localhost:8080/"
        },
        "id": "12gUMtmEgZ2h",
        "outputId": "689d4d24-34dc-466f-e9ec-452c81363c58"
      },
      "execution_count": 331,
      "outputs": [
        {
          "output_type": "stream",
          "name": "stdout",
          "text": [
            "[[30  9]\n",
            " [14 38]]\n",
            "0.7472527472527473\n"
          ]
        }
      ]
    },
    {
      "cell_type": "markdown",
      "source": [
        "\n",
        "**RANDOM FOREST CLASSIFIER**\n",
        "\n",
        "\n",
        "---\n",
        "\n"
      ],
      "metadata": {
        "id": "Hr9tI2CcrMPB"
      }
    },
    {
      "cell_type": "markdown",
      "source": [
        "BUILDING AND TRAINING THE MODEL"
      ],
      "metadata": {
        "id": "v4142I_FrMv1"
      }
    },
    {
      "cell_type": "code",
      "source": [
        "from sklearn.ensemble import RandomForestClassifier\n",
        "rf_class = RandomForestClassifier(n_estimators=50)\n",
        "rf_class.fit(X_train, y_train)"
      ],
      "metadata": {
        "colab": {
          "base_uri": "https://localhost:8080/"
        },
        "id": "Zvm5Wd7GiV3T",
        "outputId": "1d9432af-7b31-414b-bc31-b07573a598f7"
      },
      "execution_count": 347,
      "outputs": [
        {
          "output_type": "execute_result",
          "data": {
            "text/plain": [
              "RandomForestClassifier(n_estimators=50)"
            ]
          },
          "metadata": {},
          "execution_count": 347
        }
      ]
    },
    {
      "cell_type": "markdown",
      "source": [],
      "metadata": {
        "id": "mqyknJDFrUSU"
      }
    },
    {
      "cell_type": "code",
      "source": [
        "y_rf_pred = rf_class.predict(X_test)"
      ],
      "metadata": {
        "id": "pwPOntsRiV1w"
      },
      "execution_count": 348,
      "outputs": []
    },
    {
      "cell_type": "code",
      "source": [
        "cm7 = confusion_matrix(y_test, y_rf_pred)\n",
        "print(cm7)\n",
        "ac7 = accuracy_score(y_test, y_rf_pred)\n",
        "print(ac7)"
      ],
      "metadata": {
        "colab": {
          "base_uri": "https://localhost:8080/"
        },
        "id": "RPY9OVNhikeS",
        "outputId": "79c9e5c6-1616-4472-b8a3-858fb96d3ba8"
      },
      "execution_count": 349,
      "outputs": [
        {
          "output_type": "stream",
          "name": "stdout",
          "text": [
            "[[33  6]\n",
            " [ 8 44]]\n",
            "0.8461538461538461\n"
          ]
        }
      ]
    },
    {
      "cell_type": "markdown",
      "source": [
        "**VISUALIZING MODEL ACCURACIES**"
      ],
      "metadata": {
        "id": "8fhJhKVhGW6j"
      }
    },
    {
      "cell_type": "code",
      "source": [
        "data = {'XGB':83, 'GBM':84, 'AdaBoost':84,\n",
        "        'KNN':84, 'Naive Bayes': 80, 'SVM': 83, 'Logistic': 80, 'Decision Tree': 74, 'Random Forest': 84}\n",
        "classifiers = list(data.keys())\n",
        "accuracy = list(data.values())\n",
        "fig = plt.figure(figsize = (12, 5))\n",
        " \n",
        "# creating the bar plot\n",
        "plt.bar(classifiers, accuracy, color ='maroon',\n",
        "        width = 0.5)\n",
        " \n",
        "plt.xlabel(\"Classifiers\")\n",
        "plt.ylabel(\"Accuracy\")\n",
        "plt.title(\"Accuracy Scores of Classifiers\")\n",
        "plt.show()"
      ],
      "metadata": {
        "colab": {
          "base_uri": "https://localhost:8080/",
          "height": 350
        },
        "id": "chH7BQpzokDO",
        "outputId": "927b029f-700b-409f-eb31-38ad59d32894"
      },
      "execution_count": 350,
      "outputs": [
        {
          "output_type": "display_data",
          "data": {
            "text/plain": [
              "<Figure size 864x360 with 1 Axes>"
            ],
            "image/png": "[encoded data removed]"
          },
          "metadata": {
            "needs_background": "light"
          }
        }
      ]
    },
    {
      "cell_type": "markdown",
      "source": [
        "GBM is used as the final model for stacking model and XGB, Ada, KNN, Random Forest are used as estimators."
      ],
      "metadata": {
        "id": "mPUVX0LcGa7z"
      }
    },
    {
      "cell_type": "markdown",
      "source": [
        "**STACKING MODEL**\n",
        "\n",
        "\n",
        "---\n",
        "\n"
      ],
      "metadata": {
        "id": "lSzkVIvdFjkb"
      }
    },
    {
      "cell_type": "markdown",
      "source": [
        "BUILDING AND TRAINING THE MODEL"
      ],
      "metadata": {
        "id": "20FjRPJemYjZ"
      }
    },
    {
      "cell_type": "code",
      "source": [
        "from sklearn.ensemble import StackingClassifier\n",
        "from sklearn.ensemble import RandomForestClassifier\n",
        "from sklearn.ensemble import GradientBoostingClassifier\n",
        "from sklearn.ensemble import AdaBoostClassifier\n",
        "\n",
        "\n",
        "estimators = [(\"knn\", KNeighborsClassifier(n_neighbors = 80)), \n",
        "                (\"Ada classifier\", AdaBoostClassifier(n_estimators = 5),\n",
        "                 (\"Random forest\", RandomForestClassifier(n_estimators=50))\n",
        "                )]\n",
        "  \n",
        "classifier = StackingClassifier(estimators=estimators, final_estimator=GradientBoostingClassifier(n_estimators = 5))\n",
        "classifier.fit(X_train, y_train)"
      ],
      "metadata": {
        "colab": {
          "base_uri": "https://localhost:8080/"
        },
        "id": "X_ykcagEkOlV",
        "outputId": "029bce9f-76e3-43c1-84ea-958ac679122a"
      },
      "execution_count": 361,
      "outputs": [
        {
          "output_type": "execute_result",
          "data": {
            "text/plain": [
              "StackingClassifier(estimators=[('knn', KNeighborsClassifier(n_neighbors=80)),\n",
              "                               ('Ada classifier',\n",
              "                                AdaBoostClassifier(n_estimators=5),\n",
              "                                ('Random forest',\n",
              "                                 RandomForestClassifier(n_estimators=50)))],\n",
              "                   final_estimator=GradientBoostingClassifier(n_estimators=5))"
            ]
          },
          "metadata": {},
          "execution_count": 361
        }
      ]
    },
    {
      "cell_type": "markdown",
      "source": [
        "MAKING PREDICTIONS"
      ],
      "metadata": {
        "id": "spbAfh_0mavA"
      }
    },
    {
      "cell_type": "code",
      "source": [
        "y_pred = classifier.predict(X_test)"
      ],
      "metadata": {
        "id": "tZHpOIaMmBcX"
      },
      "execution_count": 362,
      "outputs": []
    },
    {
      "cell_type": "markdown",
      "source": [
        "EVALUATING THE MODEL"
      ],
      "metadata": {
        "id": "qnFO5tREmb98"
      }
    },
    {
      "cell_type": "code",
      "source": [
        "from sklearn.metrics import confusion_matrix, accuracy_score\n",
        "cm8 = confusion_matrix(y_test, y_pred)\n",
        "print(cm8)\n",
        "ac8 = accuracy_score(y_test, y_pred)\n",
        "print(ac8)"
      ],
      "metadata": {
        "id": "ham0ffgomCe9",
        "colab": {
          "base_uri": "https://localhost:8080/"
        },
        "outputId": "7cd3ffca-35be-4b87-dd30-ba87fc0dbffa"
      },
      "execution_count": 363,
      "outputs": [
        {
          "output_type": "stream",
          "name": "stdout",
          "text": [
            "[[31  8]\n",
            " [ 3 49]]\n",
            "0.8791208791208791\n"
          ]
        }
      ]
    },
    {
      "cell_type": "markdown",
      "source": [
        "Conclusion: \n",
        "Stacking model accuracy is highest: 87.91%\n",
        "New predictions are made using this model."
      ],
      "metadata": {
        "id": "5A0OsBnfG8ew"
      }
    },
    {
      "cell_type": "markdown",
      "source": [
        "**MAKING NEW PREDICTIONS**\n",
        "\n",
        "\n",
        "---\n",
        "\n"
      ],
      "metadata": {
        "id": "fo-tsbujFYHp"
      }
    },
    {
      "cell_type": "markdown",
      "source": [
        "Case of higher risk:\n",
        "\n",
        "A 57 years old male with chest pain of value 2: atypical angina, and resting blood pressure (mm Hg) is 150, cholestrol 168, has fasting blood sugar less than 120 mg/dl, resting ecg of value 1: having ST-T wave abnormality, maximum heart rate achieved 174, does not have exercise induced anigma, old peak 1.6, slope value 2: flat, number of blood vessles involved: 0, thal rate 2."
      ],
      "metadata": {
        "id": "F2kxhFvQ84Qj"
      }
    },
    {
      "cell_type": "code",
      "source": [
        "classifier.predict(sc.transform([[57, 1, 2, 150, 168, 0, 1, 174, 0, 1.6, 2, 0, 2]]))"
      ],
      "metadata": {
        "colab": {
          "base_uri": "https://localhost:8080/"
        },
        "id": "0AK6tS0G02mN",
        "outputId": "e0c0b0d0-3c9d-4e11-af23-ff359856195a"
      },
      "execution_count": 429,
      "outputs": [
        {
          "output_type": "execute_result",
          "data": {
            "text/plain": [
              "array([1])"
            ]
          },
          "metadata": {},
          "execution_count": 429
        }
      ]
    },
    {
      "cell_type": "markdown",
      "source": [
        "Case of lower risk:\n",
        "\n",
        "A 45 year old female with chest pain value 3: no pain anigma, resting blood pressure (mm Hg) is 132, total cholestrol is 170. fasting bloog sugar less than 120 mg/dl, resting ecg normal, heart rate 120, no exercise induced agnina, oldpeak 3, slope value 1: upsloping, 0 number of blood vesseles involved, thal rate 3. "
      ],
      "metadata": {
        "id": "ETvST5e-9hL8"
      }
    },
    {
      "cell_type": "code",
      "source": [
        "classifier.predict(sc.transform([[45, 0, 2, 132, 170, 0, 0, 120, 0, 3, 1, 0, 3]]))"
      ],
      "metadata": {
        "colab": {
          "base_uri": "https://localhost:8080/"
        },
        "id": "IXHBqwTN9bN1",
        "outputId": "028e85ce-e806-4385-d4ab-3c6c2f29b992"
      },
      "execution_count": 423,
      "outputs": [
        {
          "output_type": "execute_result",
          "data": {
            "text/plain": [
              "array([0])"
            ]
          },
          "metadata": {},
          "execution_count": 423
        }
      ]
    },
    {
      "cell_type": "markdown",
      "source": [
        "\n",
        "\n",
        "---\n"
      ],
      "metadata": {
        "id": "a-dct7UjFcpI"
      }
    }
  ]
}